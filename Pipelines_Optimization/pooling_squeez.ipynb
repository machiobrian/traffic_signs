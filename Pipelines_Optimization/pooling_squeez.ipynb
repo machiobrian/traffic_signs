{
 "cells": [
  {
   "cell_type": "code",
   "execution_count": 3,
   "metadata": {},
   "outputs": [],
   "source": [
    "from keras.datasets import mnist\n",
    "from keras.layers import Input, Dense, Dropout, Flatten, MaxPooling1D, MaxPooling2D, Conv2D\n",
    "from keras.models import Model, Sequential\n",
    "import numpy as np"
   ]
  },
  {
   "cell_type": "code",
   "execution_count": 14,
   "metadata": {},
   "outputs": [
    {
     "name": "stdout",
     "output_type": "stream",
     "text": [
      "[2. 3. 4. 5.]\n"
     ]
    }
   ],
   "source": [
    "sample = np.array([\n",
    "    [1,1,4,1],\n",
    "    [1,1,1,1],\n",
    "    [2,1,1,5],\n",
    "    [1,3,1,1]\n",
    "])\n",
    "\n",
    "pool = Sequential()\n",
    "pool.add(MaxPooling1D(pool_size=(4),input_shape=(4,4)))\n",
    "pooled = np.squeeze(pool.predict_on_batch(np.array([sample])))\n",
    "print(pooled)"
   ]
  },
  {
   "cell_type": "code",
   "execution_count": null,
   "metadata": {},
   "outputs": [],
   "source": []
  },
  {
   "cell_type": "code",
   "execution_count": null,
   "metadata": {},
   "outputs": [],
   "source": []
  }
 ],
 "metadata": {
  "kernelspec": {
   "display_name": "Python 3.10.4 ('tf_venv')",
   "language": "python",
   "name": "python3"
  },
  "language_info": {
   "codemirror_mode": {
    "name": "ipython",
    "version": 3
   },
   "file_extension": ".py",
   "mimetype": "text/x-python",
   "name": "python",
   "nbconvert_exporter": "python",
   "pygments_lexer": "ipython3",
   "version": "3.10.4"
  },
  "orig_nbformat": 4,
  "vscode": {
   "interpreter": {
    "hash": "a4c048af761e69bbb6a0f27abfbe825475f7e3a41835f83f62624879eb5001e8"
   }
  }
 },
 "nbformat": 4,
 "nbformat_minor": 2
}
