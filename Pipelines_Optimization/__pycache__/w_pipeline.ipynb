{
 "cells": [
  {
   "cell_type": "code",
   "execution_count": 5,
   "metadata": {},
   "outputs": [
    {
     "ename": "ModuleNotFoundError",
     "evalue": "No module named 'data_prep'",
     "output_type": "error",
     "traceback": [
      "\u001b[0;31m---------------------------------------------------------------------------\u001b[0m",
      "\u001b[0;31mModuleNotFoundError\u001b[0m                       Traceback (most recent call last)",
      "\u001b[1;32m/home/machio_b/Documents/Deep_Learning/Pipelines_Optimization/__pycache__/w_pipeline.ipynb Cell 1\u001b[0m in \u001b[0;36m<cell line: 3>\u001b[0;34m()\u001b[0m\n\u001b[1;32m      <a href='vscode-notebook-cell:/home/machio_b/Documents/Deep_Learning/Pipelines_Optimization/__pycache__/w_pipeline.ipynb#ch0000000?line=0'>1</a>\u001b[0m \u001b[39mfrom\u001b[39;00m \u001b[39msklearn\u001b[39;00m\u001b[39m.\u001b[39;00m\u001b[39mpipeline\u001b[39;00m \u001b[39mimport\u001b[39;00m Pipeline \u001b[39m#object for setting up the pipeline\u001b[39;00m\n\u001b[1;32m      <a href='vscode-notebook-cell:/home/machio_b/Documents/Deep_Learning/Pipelines_Optimization/__pycache__/w_pipeline.ipynb#ch0000000?line=1'>2</a>\u001b[0m \u001b[39mfrom\u001b[39;00m \u001b[39msklearn\u001b[39;00m\u001b[39m.\u001b[39;00m\u001b[39mfeature_selection\u001b[39;00m \u001b[39mimport\u001b[39;00m VarianceThreshold\n\u001b[0;32m----> <a href='vscode-notebook-cell:/home/machio_b/Documents/Deep_Learning/Pipelines_Optimization/__pycache__/w_pipeline.ipynb#ch0000000?line=2'>3</a>\u001b[0m \u001b[39mimport\u001b[39;00m \u001b[39mdata_prep\u001b[39;00m\n\u001b[1;32m      <a href='vscode-notebook-cell:/home/machio_b/Documents/Deep_Learning/Pipelines_Optimization/__pycache__/w_pipeline.ipynb#ch0000000?line=4'>5</a>\u001b[0m \u001b[39m#various pre-processing steps\u001b[39;00m\n\u001b[1;32m      <a href='vscode-notebook-cell:/home/machio_b/Documents/Deep_Learning/Pipelines_Optimization/__pycache__/w_pipeline.ipynb#ch0000000?line=5'>6</a>\u001b[0m \u001b[39mfrom\u001b[39;00m \u001b[39msklearn\u001b[39;00m\u001b[39m.\u001b[39;00m\u001b[39mpreprocessing\u001b[39;00m \u001b[39mimport\u001b[39;00m MaxAbsScaler, Normalizer, StandardScaler, MinMaxScaler, PowerTransformer\n",
      "\u001b[0;31mModuleNotFoundError\u001b[0m: No module named 'data_prep'"
     ]
    }
   ],
   "source": [
    "from sklearn.pipeline import Pipeline #object for setting up the pipeline\n",
    "from sklearn.feature_selection import VarianceThreshold\n",
    "import data_prep\n",
    "\n",
    "#various pre-processing steps\n",
    "from sklearn.preprocessing import MaxAbsScaler, Normalizer, StandardScaler, MinMaxScaler, PowerTransformer\n",
    "from sklearn.model_selection import GridSearchCV #used for optimization\n",
    "from sklearn.neighbors import KNeighborsClassifier"
   ]
  },
  {
   "cell_type": "code",
   "execution_count": 3,
   "metadata": {},
   "outputs": [],
   "source": [
    "pipe = Pipeline([\n",
    "    ('scaler', StandardScaler()),\n",
    "    ('selector', VarianceThreshold()),\n",
    "    ('classifier', KNeighborsClassifier())\n",
    "])\n",
    "#the pipeline is simple : scale first then select features lastly classify"
   ]
  },
  {
   "cell_type": "code",
   "execution_count": 4,
   "metadata": {},
   "outputs": [
    {
     "ename": "NameError",
     "evalue": "name 'x_train' is not defined",
     "output_type": "error",
     "traceback": [
      "\u001b[0;31m---------------------------------------------------------------------------\u001b[0m",
      "\u001b[0;31mNameError\u001b[0m                                 Traceback (most recent call last)",
      "\u001b[1;32m/home/machio_b/Documents/Deep_Learning/Pipelines_Optimization/__pycache__/w_pipeline.ipynb Cell 3\u001b[0m in \u001b[0;36m<cell line: 1>\u001b[0;34m()\u001b[0m\n\u001b[0;32m----> <a href='vscode-notebook-cell:/home/machio_b/Documents/Deep_Learning/Pipelines_Optimization/__pycache__/w_pipeline.ipynb#ch0000002?line=0'>1</a>\u001b[0m pipe\u001b[39m.\u001b[39mfit(x_train, y_train)\n",
      "\u001b[0;31mNameError\u001b[0m: name 'x_train' is not defined"
     ]
    }
   ],
   "source": [
    "pipe.fit(x_train, y_train)"
   ]
  },
  {
   "cell_type": "markdown",
   "metadata": {},
   "source": [
    "Set up a pipeline - basic containing\n",
    "1. scaler - pre-processes data, transfroms the data to zero mean and unit variance using the \n",
    "    standardscaler()\n",
    "2. feature selector - use of the variance threshold whose variance is less than a certain     defined threshold\n",
    "3. classifier - KNN - implements the k-nearest neighbour classifier and selects the class of majority k points, that are closest to the test example"
   ]
  }
 ],
 "metadata": {
  "kernelspec": {
   "display_name": "Python 3.10.4 ('tf_venv')",
   "language": "python",
   "name": "python3"
  },
  "language_info": {
   "codemirror_mode": {
    "name": "ipython",
    "version": 3
   },
   "file_extension": ".py",
   "mimetype": "text/x-python",
   "name": "python",
   "nbconvert_exporter": "python",
   "pygments_lexer": "ipython3",
   "version": "3.10.4"
  },
  "orig_nbformat": 4,
  "vscode": {
   "interpreter": {
    "hash": "a4c048af761e69bbb6a0f27abfbe825475f7e3a41835f83f62624879eb5001e8"
   }
  }
 },
 "nbformat": 4,
 "nbformat_minor": 2
}
